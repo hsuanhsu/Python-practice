{
 "cells": [
  {
   "cell_type": "markdown",
   "metadata": {},
   "source": [
    "### 計算C(M,N)\n",
    "\n",
    "    如果要算出下面的方程有多少组正整数解。\n",
    "    \n",
    "$$x_1 + x_2 + x_3 + x_4 = 8$$ \n",
    "    \n",
    "    事实上，上面的问题等同于将8个苹果分成四组每组至少一个苹果有多少种方案。想到这一点问题的答案就呼之欲出了。\n",
    "    \n",
    "$$C_M^N =\\frac{M!}{N!(M-N)!}, \\text{(M=7, N=3)} $$\n",
    "    "
   ]
  },
  {
   "cell_type": "code",
   "execution_count": 4,
   "metadata": {},
   "outputs": [
    {
     "name": "stdout",
     "output_type": "stream",
     "text": [
      "請輸入M：7\n",
      "請輸入N：3\n",
      "C(M,N)=35\n"
     ]
    }
   ],
   "source": [
    "def factoria(num):\n",
    "    \"\"\"求階乘\"\"\"\n",
    "    result = 1\n",
    "    for i in range(1, num + 1):\n",
    "        result *= i\n",
    "    return result\n",
    "\n",
    "m = int(input(\"請輸入M：\"))\n",
    "n = int(input(\"請輸入N：\"))\n",
    "print(\"C(M,N)=%d\" % int(factoria(m) // factoria(n) // factoria(m - n)))"
   ]
  },
  {
   "cell_type": "code",
   "execution_count": null,
   "metadata": {},
   "outputs": [],
   "source": []
  }
 ],
 "metadata": {
  "kernelspec": {
   "display_name": "Python 3",
   "language": "python",
   "name": "python3"
  },
  "language_info": {
   "codemirror_mode": {
    "name": "ipython",
    "version": 3
   },
   "file_extension": ".py",
   "mimetype": "text/x-python",
   "name": "python",
   "nbconvert_exporter": "python",
   "pygments_lexer": "ipython3",
   "version": "3.7.1"
  }
 },
 "nbformat": 4,
 "nbformat_minor": 2
}
