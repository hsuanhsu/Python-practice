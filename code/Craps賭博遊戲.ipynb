{
 "cells": [
  {
   "cell_type": "markdown",
   "metadata": {},
   "source": [
    "### Craps赌博游戏"
   ]
  },
  {
   "cell_type": "markdown",
   "metadata": {},
   "source": [
    "    CRAPS又称花旗骰，是美国拉斯维加斯非常受欢迎的一种的桌上赌博游戏。\n",
    "    该游戏使用两粒骰子，玩家通过摇两粒骰子获得点数进行游戏。\n",
    "    \n",
    "    简单的规则是：\n",
    "    玩家第一次摇骰子如果摇出了7点或11点，玩家胜；\n",
    "    玩家第一次如果摇出2点、3点或12点，庄家胜；\n",
    "    其他点数玩家继续摇骰子，如果玩家摇出了7点，庄家胜；\n",
    "    如果玩家摇出了第一次摇的点数，玩家胜；\n",
    "    其他点数，玩家继续要骰子，直到分出胜负。\n",
    "    \n",
    "    我们设定玩家开始游戏时有1000元的赌注\n",
    "    游戏结束的条件是玩家输光所有的赌注"
   ]
  },
  {
   "cell_type": "code",
   "execution_count": 2,
   "metadata": {},
   "outputs": [
    {
     "name": "stdout",
     "output_type": "stream",
     "text": [
      "目前總資產為： 1000\n",
      "請下注：500\n",
      "搖出5點\n",
      "遊戲繼續\n",
      "搖出5點\n",
      "玩家勝\n",
      "目前總資產為： 1500\n",
      "請下注：500\n",
      "搖出10點\n",
      "遊戲繼續\n",
      "搖出9點\n",
      "遊戲繼續\n",
      "搖出11點\n",
      "遊戲繼續\n",
      "搖出7點\n",
      "莊家勝\n",
      "目前總資產為： 1000\n",
      "請下注：500\n",
      "搖出11點\n",
      "玩家勝！\n",
      "目前總資產為： 1500\n",
      "請下注：500\n",
      "搖出3點\n",
      "莊家勝\n",
      "目前總資產為： 1000\n",
      "請下注：500\n",
      "搖出12點\n",
      "莊家勝\n",
      "目前總資產為： 500\n",
      "請下注：500\n",
      "搖出2點\n",
      "莊家勝\n",
      "你破產了，遊戲結束！\n"
     ]
    }
   ],
   "source": [
    "from random import randint\n",
    "\n",
    "money = 1000\n",
    "while money > 0:\n",
    "    print(\"目前總資產為：\", money)\n",
    "    need_go_on = False\n",
    "    while True:\n",
    "        debt = int(input(\"請下注：\"))\n",
    "        if 0 < debt <= money:\n",
    "            break\n",
    "    first = randint(1, 7) + randint(1, 7)\n",
    "    print(\"搖出%d點\" % first)\n",
    "    if first == 7 or first == 11:\n",
    "        print(\"玩家勝！\")\n",
    "        money += debt\n",
    "    elif first == 2 or first == 3 or first == 12:\n",
    "        print(\"莊家勝\")\n",
    "        money -= debt\n",
    "    else:\n",
    "        print(\"遊戲繼續\")\n",
    "        need_go_on = True\n",
    "    while need_go_on:\n",
    "        need_go_on = False\n",
    "        current = randint(1, 7) + randint(1, 7)\n",
    "        print(\"搖出%d點\" % current)\n",
    "        if current == 7:\n",
    "            print(\"莊家勝\")\n",
    "            money -= debt\n",
    "        elif current == first:\n",
    "            print(\"玩家勝\")\n",
    "            money += debt\n",
    "        else:\n",
    "            print(\"遊戲繼續\")\n",
    "            need_go_on = True\n",
    "print(\"你破產了，遊戲結束！\")"
   ]
  },
  {
   "cell_type": "code",
   "execution_count": null,
   "metadata": {},
   "outputs": [],
   "source": []
  }
 ],
 "metadata": {
  "kernelspec": {
   "display_name": "Python 3",
   "language": "python",
   "name": "python3"
  },
  "language_info": {
   "codemirror_mode": {
    "name": "ipython",
    "version": 3
   },
   "file_extension": ".py",
   "mimetype": "text/x-python",
   "name": "python",
   "nbconvert_exporter": "python",
   "pygments_lexer": "ipython3",
   "version": "3.7.1"
  }
 },
 "nbformat": 4,
 "nbformat_minor": 2
}
